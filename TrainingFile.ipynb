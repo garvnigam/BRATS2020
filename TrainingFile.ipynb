{
 "cells": [
  {
   "cell_type": "code",
   "execution_count": 1,
   "metadata": {},
   "outputs": [],
   "source": [
    "import os\n",
    "import numpy as np\n",
    "\n",
    "\n",
    "def load_img(img_dir, img_list):\n",
    "    images=[]\n",
    "    for i, image_name in enumerate(img_list):    \n",
    "        if (image_name.split('.')[1] == 'npy'):\n",
    "            \n",
    "            image = np.load(img_dir+image_name)\n",
    "                      \n",
    "            images.append(image)\n",
    "    images = np.array(images)\n",
    "    \n",
    "    return(images)\n"
   ]
  },
  {
   "cell_type": "code",
   "execution_count": 2,
   "metadata": {},
   "outputs": [],
   "source": [
    "def imageLoader(img_dir, img_list, mask_dir, mask_list, batch_size):\n",
    "\n",
    "    L = len(img_list)\n",
    "\n",
    "    #keras needs the generator infinite, so we will use while true  \n",
    "    while True:\n",
    "\n",
    "        batch_start = 0\n",
    "        batch_end = batch_size\n",
    "\n",
    "        while batch_start < L:\n",
    "            limit = min(batch_end, L)\n",
    "                       \n",
    "            X = load_img(img_dir, img_list[batch_start:limit])\n",
    "            Y = load_img(mask_dir, mask_list[batch_start:limit])\n",
    "\n",
    "            yield (X,Y) #a tuple with two numpy arrays with batch_size samples     \n",
    "\n",
    "            batch_start += batch_size   \n",
    "            batch_end += batch_size\n",
    "\n",
    "############################################\n"
   ]
  },
  {
   "cell_type": "code",
   "execution_count": 3,
   "metadata": {},
   "outputs": [],
   "source": [
    "import os\n",
    "import numpy as np\n",
    "\n",
    "#import tensorflow as tf\n",
    "import keras\n",
    "from matplotlib import pyplot as plt\n",
    "import glob\n",
    "import random\n",
    "\n",
    "\n",
    "\n",
    "####################################################\n",
    "\n"
   ]
  },
  {
   "cell_type": "code",
   "execution_count": 17,
   "metadata": {},
   "outputs": [],
   "source": [
    "wt0, wt1, wt2, wt3 = 0.26, 22.53, 22.53, 26.21"
   ]
  },
  {
   "cell_type": "code",
   "execution_count": 4,
   "metadata": {},
   "outputs": [],
   "source": [
    "train_img_dir = r\"C:\\Users\\gk336\\Downloads\\brats\\Data\\train\\train\\\\\"\n",
    "train_mask_dir = r\"C:\\Users\\gk336\\Downloads\\brats\\Data\\train\\mask\\\\\"\n",
    "\n",
    "val_img_dir = r\"C:\\Users\\gk336\\Downloads\\brats\\Data\\val\\train\\\\\"\n",
    "val_mask_dir = r\"C:\\Users\\gk336\\Downloads\\brats\\Data\\val\\mask\\\\\"\n",
    "\n",
    "train_img_list=os.listdir(train_img_dir)\n",
    "train_mask_list = os.listdir(train_mask_dir)\n",
    "\n",
    "val_img_list=os.listdir(val_img_dir)\n",
    "val_mask_list = os.listdir(val_mask_dir)\n",
    "##################################\n",
    "\n",
    "########################################################################\n",
    "batch_size = 2"
   ]
  },
  {
   "cell_type": "code",
   "execution_count": 5,
   "metadata": {},
   "outputs": [],
   "source": [
    "train_img_datagen = imageLoader(train_img_dir, train_img_list, \n",
    "                                train_mask_dir, train_mask_list, batch_size)\n",
    "\n",
    "val_img_datagen = imageLoader(val_img_dir, val_img_list, \n",
    "                                val_mask_dir, val_mask_list, batch_size)\n",
    "\n",
    "#Verify generator.... In python 3 next() is renamed as __next__()\n",
    "img, msk = train_img_datagen.__next__()"
   ]
  },
  {
   "cell_type": "code",
   "execution_count": 20,
   "metadata": {},
   "outputs": [],
   "source": [
    "from keras.models import Model\n",
    "from keras.layers import Input, Conv3D, MaxPooling3D, concatenate, Conv3DTranspose, BatchNormalization, Dropout, Lambda\n",
    "from keras.optimizers import Adam\n",
    "from keras.metrics import MeanIoU\n",
    "\n",
    "kernel_initializer =  'he_uniform' #Try others if you want\n",
    "\n",
    "\n",
    "################################################################\n",
    "def simple_unet_model(IMG_HEIGHT, IMG_WIDTH, IMG_DEPTH, IMG_CHANNELS, num_classes):\n",
    "#Build the model\n",
    "    inputs = Input((IMG_HEIGHT, IMG_WIDTH, IMG_DEPTH, IMG_CHANNELS))\n",
    "    #s = Lambda(lambda x: x / 255)(inputs)   #No need for this if we normalize our inputs beforehand\n",
    "    s = inputs\n",
    "\n",
    "    #Contraction path\n",
    "    c1 = Conv3D(16, (3, 3, 3), activation='relu', kernel_initializer=kernel_initializer, padding='same')(s)\n",
    "    c1 = Dropout(0.1)(c1)\n",
    "    c1 = Conv3D(16, (3, 3, 3), activation='relu', kernel_initializer=kernel_initializer, padding='same')(c1)\n",
    "    p1 = MaxPooling3D((2, 2, 2))(c1)\n",
    "    \n",
    "    c2 = Conv3D(32, (3, 3, 3), activation='relu', kernel_initializer=kernel_initializer, padding='same')(p1)\n",
    "    c2 = Dropout(0.1)(c2)\n",
    "    c2 = Conv3D(32, (3, 3, 3), activation='relu', kernel_initializer=kernel_initializer, padding='same')(c2)\n",
    "    p2 = MaxPooling3D((2, 2, 2))(c2)\n",
    "     \n",
    "    c3 = Conv3D(64, (3, 3, 3), activation='relu', kernel_initializer=kernel_initializer, padding='same')(p2)\n",
    "    c3 = Dropout(0.2)(c3)\n",
    "    c3 = Conv3D(64, (3, 3, 3), activation='relu', kernel_initializer=kernel_initializer, padding='same')(c3)\n",
    "    p3 = MaxPooling3D((2, 2, 2))(c3)\n",
    "     \n",
    "    c4 = Conv3D(128, (3, 3, 3), activation='relu', kernel_initializer=kernel_initializer, padding='same')(p3)\n",
    "    c4 = Dropout(0.2)(c4)\n",
    "    c4 = Conv3D(128, (3, 3, 3), activation='relu', kernel_initializer=kernel_initializer, padding='same')(c4)\n",
    "    p4 = MaxPooling3D(pool_size=(2, 2, 2))(c4)\n",
    "     \n",
    "    c5 = Conv3D(256, (3, 3, 3), activation='relu', kernel_initializer=kernel_initializer, padding='same')(p4)\n",
    "    c5 = Dropout(0.3)(c5)\n",
    "    c5 = Conv3D(256, (3, 3, 3), activation='relu', kernel_initializer=kernel_initializer, padding='same')(c5)\n",
    "    \n",
    "    #Expansive path \n",
    "    u6 = Conv3DTranspose(128, (2, 2, 2), strides=(2, 2, 2), padding='same')(c5)\n",
    "    u6 = concatenate([u6, c4])\n",
    "    c6 = Conv3D(128, (3, 3, 3), activation='relu', kernel_initializer=kernel_initializer, padding='same')(u6)\n",
    "    c6 = Dropout(0.2)(c6)\n",
    "    c6 = Conv3D(128, (3, 3, 3), activation='relu', kernel_initializer=kernel_initializer, padding='same')(c6)\n",
    "     \n",
    "    u7 = Conv3DTranspose(64, (2, 2, 2), strides=(2, 2, 2), padding='same')(c6)\n",
    "    u7 = concatenate([u7, c3])\n",
    "    c7 = Conv3D(64, (3, 3, 3), activation='relu', kernel_initializer=kernel_initializer, padding='same')(u7)\n",
    "    c7 = Dropout(0.2)(c7)\n",
    "    c7 = Conv3D(64, (3, 3, 3), activation='relu', kernel_initializer=kernel_initializer, padding='same')(c7)\n",
    "     \n",
    "    u8 = Conv3DTranspose(32, (2, 2, 2), strides=(2, 2, 2), padding='same')(c7)\n",
    "    u8 = concatenate([u8, c2])\n",
    "    c8 = Conv3D(32, (3, 3, 3), activation='relu', kernel_initializer=kernel_initializer, padding='same')(u8)\n",
    "    c8 = Dropout(0.1)(c8)\n",
    "    c8 = Conv3D(32, (3, 3, 3), activation='relu', kernel_initializer=kernel_initializer, padding='same')(c8)\n",
    "     \n",
    "    u9 = Conv3DTranspose(16, (2, 2, 2), strides=(2, 2, 2), padding='same')(c8)\n",
    "    u9 = concatenate([u9, c1])\n",
    "    c9 = Conv3D(16, (3, 3, 3), activation='relu', kernel_initializer=kernel_initializer, padding='same')(u9)\n",
    "    c9 = Dropout(0.1)(c9)\n",
    "    c9 = Conv3D(16, (3, 3, 3), activation='relu', kernel_initializer=kernel_initializer, padding='same')(c9)\n",
    "     \n",
    "    outputs = Conv3D(num_classes, (1, 1, 1), activation='softmax')(c9)\n",
    "     \n",
    "    model = Model(inputs=[inputs], outputs=[outputs])\n",
    "    #compile model outside of this function to make it flexible. \n",
    "    model.summary()\n",
    "    \n",
    "    return model\n"
   ]
  },
  {
   "cell_type": "code",
   "execution_count": 21,
   "metadata": {},
   "outputs": [
    {
     "name": "stdout",
     "output_type": "stream",
     "text": [
      "Model: \"model_1\"\n",
      "__________________________________________________________________________________________________\n",
      " Layer (type)                Output Shape                 Param #   Connected to                  \n",
      "==================================================================================================\n",
      " input_2 (InputLayer)        [(None, 128, 128, 128, 3)]   0         []                            \n",
      "                                                                                                  \n",
      " conv3d_19 (Conv3D)          (None, 128, 128, 128, 16)    1312      ['input_2[0][0]']             \n",
      "                                                                                                  \n",
      " dropout_9 (Dropout)         (None, 128, 128, 128, 16)    0         ['conv3d_19[0][0]']           \n",
      "                                                                                                  \n",
      " conv3d_20 (Conv3D)          (None, 128, 128, 128, 16)    6928      ['dropout_9[0][0]']           \n",
      "                                                                                                  \n",
      " max_pooling3d_4 (MaxPoolin  (None, 64, 64, 64, 16)       0         ['conv3d_20[0][0]']           \n",
      " g3D)                                                                                             \n",
      "                                                                                                  \n",
      " conv3d_21 (Conv3D)          (None, 64, 64, 64, 32)       13856     ['max_pooling3d_4[0][0]']     \n",
      "                                                                                                  \n",
      " dropout_10 (Dropout)        (None, 64, 64, 64, 32)       0         ['conv3d_21[0][0]']           \n",
      "                                                                                                  \n",
      " conv3d_22 (Conv3D)          (None, 64, 64, 64, 32)       27680     ['dropout_10[0][0]']          \n",
      "                                                                                                  \n",
      " max_pooling3d_5 (MaxPoolin  (None, 32, 32, 32, 32)       0         ['conv3d_22[0][0]']           \n",
      " g3D)                                                                                             \n",
      "                                                                                                  \n",
      " conv3d_23 (Conv3D)          (None, 32, 32, 32, 64)       55360     ['max_pooling3d_5[0][0]']     \n",
      "                                                                                                  \n",
      " dropout_11 (Dropout)        (None, 32, 32, 32, 64)       0         ['conv3d_23[0][0]']           \n",
      "                                                                                                  \n",
      " conv3d_24 (Conv3D)          (None, 32, 32, 32, 64)       110656    ['dropout_11[0][0]']          \n",
      "                                                                                                  \n",
      " max_pooling3d_6 (MaxPoolin  (None, 16, 16, 16, 64)       0         ['conv3d_24[0][0]']           \n",
      " g3D)                                                                                             \n",
      "                                                                                                  \n",
      " conv3d_25 (Conv3D)          (None, 16, 16, 16, 128)      221312    ['max_pooling3d_6[0][0]']     \n",
      "                                                                                                  \n",
      " dropout_12 (Dropout)        (None, 16, 16, 16, 128)      0         ['conv3d_25[0][0]']           \n",
      "                                                                                                  \n",
      " conv3d_26 (Conv3D)          (None, 16, 16, 16, 128)      442496    ['dropout_12[0][0]']          \n",
      "                                                                                                  \n",
      " max_pooling3d_7 (MaxPoolin  (None, 8, 8, 8, 128)         0         ['conv3d_26[0][0]']           \n",
      " g3D)                                                                                             \n",
      "                                                                                                  \n",
      " conv3d_27 (Conv3D)          (None, 8, 8, 8, 256)         884992    ['max_pooling3d_7[0][0]']     \n",
      "                                                                                                  \n",
      " dropout_13 (Dropout)        (None, 8, 8, 8, 256)         0         ['conv3d_27[0][0]']           \n",
      "                                                                                                  \n",
      " conv3d_28 (Conv3D)          (None, 8, 8, 8, 256)         1769728   ['dropout_13[0][0]']          \n",
      "                                                                                                  \n",
      " conv3d_transpose_4 (Conv3D  (None, 16, 16, 16, 128)      262272    ['conv3d_28[0][0]']           \n",
      " Transpose)                                                                                       \n",
      "                                                                                                  \n",
      " concatenate_4 (Concatenate  (None, 16, 16, 16, 256)      0         ['conv3d_transpose_4[0][0]',  \n",
      " )                                                                   'conv3d_26[0][0]']           \n",
      "                                                                                                  \n",
      " conv3d_29 (Conv3D)          (None, 16, 16, 16, 128)      884864    ['concatenate_4[0][0]']       \n",
      "                                                                                                  \n",
      " dropout_14 (Dropout)        (None, 16, 16, 16, 128)      0         ['conv3d_29[0][0]']           \n",
      "                                                                                                  \n",
      " conv3d_30 (Conv3D)          (None, 16, 16, 16, 128)      442496    ['dropout_14[0][0]']          \n",
      "                                                                                                  \n",
      " conv3d_transpose_5 (Conv3D  (None, 32, 32, 32, 64)       65600     ['conv3d_30[0][0]']           \n",
      " Transpose)                                                                                       \n",
      "                                                                                                  \n",
      " concatenate_5 (Concatenate  (None, 32, 32, 32, 128)      0         ['conv3d_transpose_5[0][0]',  \n",
      " )                                                                   'conv3d_24[0][0]']           \n",
      "                                                                                                  \n",
      " conv3d_31 (Conv3D)          (None, 32, 32, 32, 64)       221248    ['concatenate_5[0][0]']       \n",
      "                                                                                                  \n",
      " dropout_15 (Dropout)        (None, 32, 32, 32, 64)       0         ['conv3d_31[0][0]']           \n",
      "                                                                                                  \n",
      " conv3d_32 (Conv3D)          (None, 32, 32, 32, 64)       110656    ['dropout_15[0][0]']          \n",
      "                                                                                                  \n",
      " conv3d_transpose_6 (Conv3D  (None, 64, 64, 64, 32)       16416     ['conv3d_32[0][0]']           \n",
      " Transpose)                                                                                       \n",
      "                                                                                                  \n",
      " concatenate_6 (Concatenate  (None, 64, 64, 64, 64)       0         ['conv3d_transpose_6[0][0]',  \n",
      " )                                                                   'conv3d_22[0][0]']           \n",
      "                                                                                                  \n",
      " conv3d_33 (Conv3D)          (None, 64, 64, 64, 32)       55328     ['concatenate_6[0][0]']       \n",
      "                                                                                                  \n",
      " dropout_16 (Dropout)        (None, 64, 64, 64, 32)       0         ['conv3d_33[0][0]']           \n",
      "                                                                                                  \n",
      " conv3d_34 (Conv3D)          (None, 64, 64, 64, 32)       27680     ['dropout_16[0][0]']          \n",
      "                                                                                                  \n",
      " conv3d_transpose_7 (Conv3D  (None, 128, 128, 128, 16)    4112      ['conv3d_34[0][0]']           \n",
      " Transpose)                                                                                       \n",
      "                                                                                                  \n",
      " concatenate_7 (Concatenate  (None, 128, 128, 128, 32)    0         ['conv3d_transpose_7[0][0]',  \n",
      " )                                                                   'conv3d_20[0][0]']           \n",
      "                                                                                                  \n",
      " conv3d_35 (Conv3D)          (None, 128, 128, 128, 16)    13840     ['concatenate_7[0][0]']       \n",
      "                                                                                                  \n",
      " dropout_17 (Dropout)        (None, 128, 128, 128, 16)    0         ['conv3d_35[0][0]']           \n",
      "                                                                                                  \n",
      " conv3d_36 (Conv3D)          (None, 128, 128, 128, 16)    6928      ['dropout_17[0][0]']          \n",
      "                                                                                                  \n",
      " conv3d_37 (Conv3D)          (None, 128, 128, 128, 4)     68        ['conv3d_36[0][0]']           \n",
      "                                                                                                  \n",
      "==================================================================================================\n",
      "Total params: 5645828 (21.54 MB)\n",
      "Trainable params: 5645828 (21.54 MB)\n",
      "Non-trainable params: 0 (0.00 Byte)\n",
      "__________________________________________________________________________________________________\n",
      "You must install pydot (`pip install pydot`) and install graphviz (see instructions at https://graphviz.gitlab.io/download/) for plot_model to work.\n"
     ]
    }
   ],
   "source": [
    "from tensorflow.keras.utils import plot_model\n",
    "Model=simple_unet_model(128, 128, 128, 3, 4)\n",
    "plot_model(Model, \n",
    "           show_shapes = True,\n",
    "           show_dtype=False,\n",
    "           show_layer_names = True, \n",
    "           rankdir = 'TB', \n",
    "           expand_nested = False, \n",
    "           dpi = 70)"
   ]
  },
  {
   "cell_type": "code",
   "execution_count": 48,
   "metadata": {},
   "outputs": [],
   "source": [
    "\n",
    "Model.compile(loss=\"categorical_crossentropy\", optimizer=tf.keras.optimizers.Adam(learning_rate=0.001), metrics = ['accuracy',tf.keras.metrics.MeanIoU(num_classes=4)])"
   ]
  },
  {
   "cell_type": "code",
   "execution_count": 49,
   "metadata": {},
   "outputs": [],
   "source": [
    "steps_per_epoch = len(train_img_list)//batch_size\n",
    "val_steps_per_epoch = len(val_img_list)//batch_size\n"
   ]
  },
  {
   "cell_type": "code",
   "execution_count": 50,
   "metadata": {},
   "outputs": [
    {
     "name": "stdout",
     "output_type": "stream",
     "text": [
      "Epoch 1/100\n"
     ]
    }
   ],
   "source": [
    "history=Model.fit(train_img_datagen,\n",
    "          steps_per_epoch=steps_per_epoch,\n",
    "          epochs=100,\n",
    "          verbose=1,\n",
    "          validation_data=val_img_datagen,\n",
    "          validation_steps=val_steps_per_epoch,\n",
    "          )\n",
    "Model.save('brats_3d.hdf5')"
   ]
  },
  {
   "cell_type": "code",
   "execution_count": null,
   "metadata": {},
   "outputs": [],
   "source": [
    "loss = history.history['loss']\n",
    "val_loss = history.history['val_loss']\n",
    "epochs = range(1, len(loss) + 1)\n",
    "plt.plot(epochs, loss, 'y', label='Training loss')\n",
    "plt.plot(epochs, val_loss, 'r', label='Validation loss')\n",
    "plt.title('Training and validation loss')\n",
    "plt.xlabel('Epochs')\n",
    "plt.ylabel('Loss')\n",
    "plt.legend()\n",
    "plt.show()\n",
    "\n",
    "acc = history.history['accuracy']\n",
    "val_acc = history.history['val_accuracy']\n",
    "\n",
    "plt.plot(epochs, acc, 'y', label='Training accuracy')\n",
    "plt.plot(epochs, val_acc, 'r', label='Validation accuracy')\n",
    "plt.title('Training and validation accuracy')\n",
    "plt.xlabel('Epochs')\n",
    "plt.ylabel('Accuracy')\n",
    "plt.legend()\n",
    "plt.show()"
   ]
  },
  {
   "cell_type": "code",
   "execution_count": 2,
   "metadata": {},
   "outputs": [
    {
     "data": {
      "text/plain": [
       "[]"
      ]
     },
     "execution_count": 2,
     "metadata": {},
     "output_type": "execute_result"
    }
   ],
   "source": [
    "import tensorflow as tf\n",
    "tf.config.list_physical_devices('GPU')"
   ]
  },
  {
   "cell_type": "code",
   "execution_count": 3,
   "metadata": {},
   "outputs": [
    {
     "name": "stdout",
     "output_type": "stream",
     "text": [
      "[]\n"
     ]
    }
   ],
   "source": [
    "import tensorflow as tf\n",
    "print(tf.config.list_physical_devices('GPU'))"
   ]
  },
  {
   "cell_type": "markdown",
   "metadata": {},
   "source": [
    "Testing the model"
   ]
  },
  {
   "cell_type": "code",
   "execution_count": 6,
   "metadata": {},
   "outputs": [],
   "source": [
    "from keras.models import load_model"
   ]
  },
  {
   "cell_type": "code",
   "execution_count": 7,
   "metadata": {},
   "outputs": [],
   "source": [
    "my_model = load_model(r\"C:\\Users\\gk336\\Downloads\\brats_3d.hdf5\", \n",
    "                      compile=False)\n"
   ]
  },
  {
   "cell_type": "code",
   "execution_count": 1,
   "metadata": {},
   "outputs": [
    {
     "ename": "NameError",
     "evalue": "name 'imageLoader' is not defined",
     "output_type": "error",
     "traceback": [
      "\u001b[1;31m---------------------------------------------------------------------------\u001b[0m",
      "\u001b[1;31mNameError\u001b[0m                                 Traceback (most recent call last)",
      "Cell \u001b[1;32mIn[1], line 4\u001b[0m\n\u001b[0;32m      1\u001b[0m \u001b[39mfrom\u001b[39;00m \u001b[39mkeras\u001b[39;00m\u001b[39m.\u001b[39;00m\u001b[39mmetrics\u001b[39;00m \u001b[39mimport\u001b[39;00m MeanIoU\n\u001b[0;32m      3\u001b[0m batch_size\u001b[39m=\u001b[39m\u001b[39m4\u001b[39m \u001b[39m#Check IoU for a batch of images\u001b[39;00m\n\u001b[1;32m----> 4\u001b[0m test_img_datagen \u001b[39m=\u001b[39m imageLoader(val_img_dir, val_img_list, \n\u001b[0;32m      5\u001b[0m                                 val_mask_dir, val_mask_list, batch_size)\n\u001b[0;32m      7\u001b[0m \u001b[39m#Verify generator.... In python 3 next() is renamed as __next__()\u001b[39;00m\n\u001b[0;32m      8\u001b[0m test_image_batch, test_mask_batch \u001b[39m=\u001b[39m test_img_datagen\u001b[39m.\u001b[39m\u001b[39m__next__\u001b[39m()\n",
      "\u001b[1;31mNameError\u001b[0m: name 'imageLoader' is not defined"
     ]
    }
   ],
   "source": [
    "from keras.metrics import MeanIoU\n",
    "\n",
    "batch_size=4 #Check IoU for a batch of images\n",
    "test_img_datagen = imageLoader(val_img_dir, val_img_list, \n",
    "                                val_mask_dir, val_mask_list, batch_size)\n",
    "\n",
    "#Verify generator.... In python 3 next() is renamed as __next__()\n",
    "test_image_batch, test_mask_batch = test_img_datagen.__next__()\n",
    "\n",
    "test_mask_batch_argmax = np.argmax(test_mask_batch, axis=4)\n",
    "test_pred_batch = my_model.predict(test_image_batch)\n",
    "test_pred_batch_argmax = np.argmax(test_pred_batch, axis=4)\n",
    "\n",
    "n_classes = 4\n",
    "IOU_keras = MeanIoU(num_classes=n_classes)  \n",
    "IOU_keras.update_state(test_pred_batch_argmax, test_mask_batch_argmax)\n",
    "print(\"Mean IoU =\", IOU_keras.result().numpy())"
   ]
  },
  {
   "cell_type": "code",
   "execution_count": null,
   "metadata": {},
   "outputs": [],
   "source": []
  }
 ],
 "metadata": {
  "kernelspec": {
   "display_name": "Python 3",
   "language": "python",
   "name": "python3"
  },
  "language_info": {
   "codemirror_mode": {
    "name": "ipython",
    "version": 3
   },
   "file_extension": ".py",
   "mimetype": "text/x-python",
   "name": "python",
   "nbconvert_exporter": "python",
   "pygments_lexer": "ipython3",
   "version": "3.11.3"
  },
  "orig_nbformat": 4
 },
 "nbformat": 4,
 "nbformat_minor": 2
}
